{
 "cells": [
  {
   "cell_type": "code",
   "execution_count": null,
   "metadata": {},
   "outputs": [],
   "source": [
    "import torch\n",
    "from transformers import AutoModelForCausalLM, AutoTokenizer\n",
    "\n",
    "from sklearn.linear_model import LogisticRegression\n",
    "from sklearn.metrics import classification_report, f1_score\n",
    "from sklearn.model_selection import train_test_split\n",
    "from matplotlib import pyplot as plt\n",
    "from tqdm import tqdm\n",
    "import numpy as np\n",
    "from collections import Counter\n",
    "\n",
    "\n",
    "from plotting import plot_f1_matrix\n",
    "from pos_tagger import PosTagger\n",
    "from data_handling import load_tinystories_data\n",
    "from attention_extraction import extract_all_attention\n",
    "import json"
   ]
  },
  {
   "cell_type": "code",
   "execution_count": null,
   "metadata": {},
   "outputs": [],
   "source": [
    "def get_pos_tags(pos_tagger, data):\n",
    "    all_tags = []\n",
    "    for sent in data:\n",
    "        tokens, tags, words = pos_tagger.tag_input(sent, return_words=True)\n",
    "        all_tags.extend(tags)\n",
    "\n",
    "    return all_tags"
   ]
  },
  {
   "cell_type": "code",
   "execution_count": null,
   "metadata": {},
   "outputs": [],
   "source": [
    "def init(model_url:str,data_path:str,data_size:int,vb:bool = False):\n",
    "    model = AutoModelForCausalLM.from_pretrained(model_url)\n",
    "    tokenizer = AutoTokenizer.from_pretrained(model_url)\n",
    "\n",
    "    num_heads = model.config.num_heads\n",
    "    num_layers = model.config.num_layers\n",
    "\n",
    "    data = load_tinystories_data(data_path)\n",
    "    data_train, data_test = train_test_split(data, test_size=0.2)\n",
    "    data_train = data_train[:data_size]\n",
    "    data_test = data_test[:data_size]\n",
    "\n",
    "    pos_tagger = PosTagger(tokenizer)\n",
    "    tags_train = get_pos_tags(pos_tagger, data_train)\n",
    "    tags_test = get_pos_tags(pos_tagger, data_test)\n",
    "    \n",
    "    if vb:\n",
    "        tags_train = ['VB' if tag.startswith('VB') else tag for tag in tags_train]\n",
    "        tags_test = ['VB' if tag.startswith('VB') else tag for tag in tags_test]\n",
    "    else:\n",
    "        pass\n",
    "\n",
    "    keys_train, queries_train, values_train = extract_all_attention(model, tokenizer, data_train)\n",
    "    keys_test, queries_test, values_test = extract_all_attention(model, tokenizer, data_test)\n",
    "\n",
    "    return num_heads, num_layers, keys_train, keys_test, queries_train, queries_test, tags_train, tags_test"
   ]
  },
  {
   "cell_type": "code",
   "execution_count": null,
   "metadata": {},
   "outputs": [],
   "source": [
    "model_url = 'roneneldan/TinyStories-1M'\n",
    "data_path = '../data/tinystories_val.txt'"
   ]
  },
  {
   "cell_type": "code",
   "execution_count": null,
   "metadata": {},
   "outputs": [],
   "source": [
    "num_heads, num_layers, keys_train, keys_test, queries_train, queries_test, tags_train, tags_test = init(model_url=model_url,data_path=data_path,data_size=200,vb = False)"
   ]
  },
  {
   "cell_type": "code",
   "execution_count": null,
   "metadata": {},
   "outputs": [],
   "source": [
    "def train_predict(num_heads:int,num_layers:int,train_data:np.ndarray,test_data:np.ndarray,tags_train:list,tags_test:list,filename:str):\n",
    "        probes = [\n",
    "            [\n",
    "                LogisticRegression(solver='newton-cg',max_iter=100)\n",
    "                for head in range(num_heads)\n",
    "            ]\n",
    "            for layer in range(num_layers)\n",
    "        ]\n",
    "\n",
    "        # train\n",
    "        for layer in tqdm(range(num_layers)):\n",
    "            for head in tqdm(range(num_heads)):\n",
    "                #print(layer, head)\n",
    "                probes[layer][head].fit(\n",
    "                    train_data[layer][head],\n",
    "                    tags_train\n",
    "                )\n",
    "\n",
    "\n",
    "\n",
    "        # predict\n",
    "        results = []\n",
    "        for layer in tqdm(range(num_layers)):\n",
    "            results.append([])\n",
    "            for head in tqdm(range(num_heads)):\n",
    "                preds = probes[layer][head].predict(test_data[layer][head])\n",
    "                results[-1].append(\n",
    "                    classification_report(\n",
    "                        tags_test, \n",
    "                        preds,\n",
    "                        output_dict=True,\n",
    "                        zero_division=1\n",
    "                    )\n",
    "                ) \n",
    "\n",
    "        with open(f\"results/results_{filename}.json\", \"w\") as json_file:\n",
    "            json.dump(results, json_file, indent=4)\n",
    "        \n",
    "        return probes"
   ]
  },
  {
   "cell_type": "code",
   "execution_count": null,
   "metadata": {},
   "outputs": [],
   "source": [
    "probes = train_predict(num_heads=num_heads,num_layers=num_layers,train_data=queries_train,test_data=queries_test,tags_train=tags_train, tags_test=tags_test,filename='queries')"
   ]
  },
  {
   "cell_type": "code",
   "execution_count": null,
   "metadata": {},
   "outputs": [],
   "source": [
    "with open('../probe-results/results_keys.json','r') as f:\n",
    "    results = json.load(f)"
   ]
  },
  {
   "cell_type": "code",
   "execution_count": null,
   "metadata": {},
   "outputs": [],
   "source": [
    "plot_f1_matrix(results=results,filename='keys',color='Blues')"
   ]
  },
  {
   "cell_type": "code",
   "execution_count": null,
   "metadata": {},
   "outputs": [],
   "source": [
    "with open('../probe-results/results_queries.json','r') as f:\n",
    "    results = json.load(f)"
   ]
  },
  {
   "cell_type": "code",
   "execution_count": null,
   "metadata": {},
   "outputs": [],
   "source": [
    "plot_f1_matrix(results=results,filename='queries',color='Reds')"
   ]
  }
 ],
 "metadata": {
  "kernelspec": {
   "display_name": "nlp",
   "language": "python",
   "name": "python3"
  },
  "language_info": {
   "codemirror_mode": {
    "name": "ipython",
    "version": 3
   },
   "file_extension": ".py",
   "mimetype": "text/x-python",
   "name": "python",
   "nbconvert_exporter": "python",
   "pygments_lexer": "ipython3",
   "version": "3.12.2"
  }
 },
 "nbformat": 4,
 "nbformat_minor": 2
}
