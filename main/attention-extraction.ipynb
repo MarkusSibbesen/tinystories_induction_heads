{
 "cells": [
  {
   "cell_type": "code",
   "execution_count": null,
   "metadata": {},
   "outputs": [],
   "source": [
    "import torch\n",
    "from transformers import AutoModelForCausalLM, AutoTokenizer\n",
    "from matplotlib import pyplot as plt"
   ]
  },
  {
   "cell_type": "code",
   "execution_count": null,
   "metadata": {},
   "outputs": [],
   "source": [
    "model_url = 'roneneldan/TinyStories-1M'\n",
    "\n",
    "model = AutoModelForCausalLM.from_pretrained(model_url)\n",
    "tokenizer = AutoTokenizer.from_pretrained(model_url)"
   ]
  },
  {
   "cell_type": "code",
   "execution_count": null,
   "metadata": {},
   "outputs": [],
   "source": [
    "str_ = 'The boy picked up the chair'\n",
    "\n",
    "tokenized = tokenizer.encode(str_, return_tensors='pt')\n",
    "\n",
    "attention_mask = torch.ones(tokenized.shape, device=tokenized.device)\n",
    "\n",
    "pad_token_id = tokenizer.pad_token_id if tokenizer.pad_token_id is not None else tokenizer.eos_token_id\n",
    "\n",
    "output = model.generate(tokenized, max_length=100, num_beams=1, attention_mask=attention_mask, pad_token_id=pad_token_id)\n",
    "\n",
    "print(tokenizer.decode(output[0], skip_special_tokens=True))\n"
   ]
  },
  {
   "cell_type": "code",
   "execution_count": null,
   "metadata": {},
   "outputs": [],
   "source": [
    "def get_attention(model, layer, input_):\n",
    "    keys = []\n",
    "    queries = []\n",
    "\n",
    "    num_heads = model.config.num_heads\n",
    "    print(num_heads)\n",
    "\n",
    "    def extract_key_hook(module, input, output):\n",
    "        keys.append(torch.chunk(output, num_heads, dim=-1))\n",
    "\n",
    "    def extract_query_hook(module, input, output):\n",
    "        queries.append(torch.chunk(output, num_heads, dim=-1))\n",
    "\n",
    "\n",
    "    key_hookpoint = f'transformer.h.{layer}.attn.attention.k_proj'\n",
    "    query_hookpoint = f'transformer.h.{layer}.attn.attention.q_proj'\n",
    "\n",
    "    key_hook = model.get_submodule(key_hookpoint).register_forward_hook(extract_key_hook)\n",
    "    query_hook = model.get_submodule(query_hookpoint).register_forward_hook(extract_query_hook)\n",
    "\n",
    "    tokenized = tokenizer.encode(input_, return_tensors='pt')\n",
    "\n",
    "    output = model.forward(tokenized)\n",
    "\n",
    "    key_hook.remove()\n",
    "    query_hook.remove()\n",
    "\n",
    "    queries = queries[0] # because the hooks are appending to list\n",
    "    keys = keys[0] # same\n",
    "\n",
    "    attn_patterns = []\n",
    "    for head_idx in range(num_heads):\n",
    "        attn_patterns.append(torch.softmax(queries[head_idx][0] @ keys[head_idx][0].T, dim=1))\n",
    "\n",
    "    return attn_patterns, tokenized\n"
   ]
  },
  {
   "cell_type": "code",
   "execution_count": null,
   "metadata": {},
   "outputs": [],
   "source": [
    "attn_patterns, tokenized = get_attention(\n",
    "    model=model,\n",
    "    layer=2, \n",
    "    input_='The little wolf walked past the forest. His paws did not make a sound.'\n",
    ")\n",
    "\n",
    "attn_pattern = attn_patterns[7]\n",
    "\n",
    "fig, axs = plt.subplots(len(tokenized[0]), figsize=(5, 20))\n",
    "axs = axs.flatten()\n",
    "\n",
    "for i in range(len(tokenized[0])):\n",
    "    axs[i].set_title(tokenizer.decode(tokenized[0][i]))\n",
    "\n",
    "    barplot = {\n",
    "        tokenizer.decode(tokenized[0][j]): attn_pattern[i][j].item()\n",
    "        for j in range(len(tokenized[0]))\n",
    "    }\n",
    "\n",
    "    axs[i].bar(barplot.keys(), barplot.values(), label=barplot.keys())\n",
    "    axs[i].set_xticks(list(barplot.keys()))\n",
    "    axs[i].set_xticklabels(list(barplot.keys()), rotation=45)\n",
    "\n",
    "fig.tight_layout()"
   ]
  }
 ],
 "metadata": {
  "kernelspec": {
   "display_name": "nlp",
   "language": "python",
   "name": "python3"
  },
  "language_info": {
   "codemirror_mode": {
    "name": "ipython",
    "version": 3
   },
   "file_extension": ".py",
   "mimetype": "text/x-python",
   "name": "python",
   "nbconvert_exporter": "python",
   "pygments_lexer": "ipython3",
   "version": "3.12.2"
  }
 },
 "nbformat": 4,
 "nbformat_minor": 2
}
