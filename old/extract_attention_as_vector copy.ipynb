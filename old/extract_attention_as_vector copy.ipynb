{
 "cells": [
  {
   "cell_type": "code",
   "execution_count": null,
   "metadata": {},
   "outputs": [],
   "source": [
    "import torch\n",
    "from transformers import AutoModelForCausalLM, AutoTokenizer\n",
    "\n",
    "from sklearn.linear_model import LogisticRegression\n",
    "from matplotlib import pyplot as plt\n",
    "import numpy as np\n",
    "from pos_tagger import PosTagger\n",
    "from sklearn.model_selection import train_test_split\n",
    "from sklearn.preprocessing import LabelEncoder\n",
    "from sklearn.linear_model import LogisticRegression\n"
   ]
  },
  {
   "cell_type": "code",
   "execution_count": null,
   "metadata": {},
   "outputs": [],
   "source": [
    "model_url = 'roneneldan/TinyStories-3M'\n",
    "\n",
    "model = AutoModelForCausalLM.from_pretrained(model_url)\n",
    "tokenizer = AutoTokenizer.from_pretrained(model_url)"
   ]
  },
  {
   "cell_type": "code",
   "execution_count": null,
   "metadata": {},
   "outputs": [],
   "source": [
    "with open('data/tinystories_val.txt', 'r') as file:\n",
    "    stories = file.read()\n",
    "    stories = stories.split(\"<|endoftext|>\\n\")"
   ]
  },
  {
   "cell_type": "code",
   "execution_count": null,
   "metadata": {},
   "outputs": [],
   "source": [
    "class miav():\n",
    "    def __init__(self, model, tokenizer, dataset):\n",
    "        self.model = model\n",
    "        self.tokenizer = tokenizer\n",
    "        self.dataset = dataset\n",
    "    \n",
    "    \n",
    "    def attach_value_hooks(self, model):\n",
    "        values = []\n",
    "        def extract_value_hook(module, input, output):\n",
    "            values.append(output)\n",
    "        \n",
    "        value_hook_list = []\n",
    "        for layer in range(8):\n",
    "            value_hookpoint = f'transformer.h.{layer}.attn.attention.v_proj'\n",
    "            value_hook = model.get_submodule(value_hookpoint).register_forward_hook(extract_value_hook)\n",
    "            value_hook_list.append(value_hook)\n",
    "        return value_hook_list, values\n",
    "\n",
    "\n",
    "    def get_values(self, model, tokenizer, inputs:list[str]):\n",
    "        value_hook_list, values = self.attach_value_hooks(model)\n",
    "        for input_ in inputs:\n",
    "            tokenized = tokenizer.encode(input_, return_tensors='pt')\n",
    "            model.forward(tokenized)\n",
    "        for value_hook in value_hook_list:\n",
    "            value_hook.remove()\n",
    "        return values\n",
    "\n",
    "\n",
    "idk = miav(model, tokenizer, stories)"
   ]
  },
  {
   "cell_type": "code",
   "execution_count": null,
   "metadata": {},
   "outputs": [],
   "source": []
  },
  {
   "cell_type": "code",
   "execution_count": null,
   "metadata": {},
   "outputs": [],
   "source": [
    "sentence = \"I am a cat\"\n",
    "\n",
    "tagger = PosTagger(tokenizer)"
   ]
  },
  {
   "cell_type": "code",
   "execution_count": null,
   "metadata": {},
   "outputs": [],
   "source": [
    "layer_index = 0\n",
    "head_index = 0\n",
    "\n",
    "def encode_sentence(sentence:str, tagger, head_index):\n",
    "    li = idk.get_values(model, tokenizer,[sentence] )\n",
    "    X_d = defaultdict(list)\n",
    "    y_d = defaultdict(list)\n",
    "\n",
    "    for layer_index, layer in enumerate(li):\n",
    "\n",
    "        for batch in layer:\n",
    "            _, tags = tagger.tag_input(sentence)\n",
    "            for attention_token, tags in zip(batch,tags):\n",
    "\n",
    "                head_value = attention_token[head_index:head_index+8]\n",
    "\n",
    "                X_d[layer_index].append(head_value.detach().numpy())\n",
    "                y_d[layer_index].append(tags)\n",
    "\n",
    "    return X_d, y_d\n",
    "\n",
    "sentences = [\"I am a cat\", \"i like cheese\"]\n",
    "X_all = []\n",
    "y_all = []\n",
    "\n",
    "for sentence in stories[0:100]:\n",
    "    for i in range(8):\n",
    "        X, y = encode_sentence(sentence, tagger, head_index)\n"
   ]
  },
  {
   "cell_type": "code",
   "execution_count": null,
   "metadata": {},
   "outputs": [],
   "source": []
  },
  {
   "cell_type": "code",
   "execution_count": null,
   "metadata": {},
   "outputs": [],
   "source": []
  },
  {
   "cell_type": "code",
   "execution_count": null,
   "metadata": {},
   "outputs": [],
   "source": [
    "import pandas as pd\n",
    "pd.DataFrame(d)"
   ]
  },
  {
   "cell_type": "code",
   "execution_count": null,
   "metadata": {},
   "outputs": [],
   "source": []
  },
  {
   "cell_type": "code",
   "execution_count": null,
   "metadata": {},
   "outputs": [],
   "source": [
    "li[0].shape"
   ]
  },
  {
   "cell_type": "code",
   "execution_count": null,
   "metadata": {},
   "outputs": [],
   "source": []
  },
  {
   "cell_type": "code",
   "execution_count": null,
   "metadata": {},
   "outputs": [],
   "source": [
    "def create_data(model, tokenizer, layer, head_index, sentences):\n",
    "    tagger = PosTagger(tokenizer)\n",
    "    X = []\n",
    "    Y = []\n",
    "\n",
    "\n",
    "    for sentence in sentences:\n",
    "\n",
    "        value_matrix = idk.get_values(model, tokenizer, layer, head_index,[sentence])\n",
    "        tokens, tags = tagger.tag_input(sentence)\n",
    "        attention_data = idk.get_value_attention_sentence_level(value_matrix,0)[0]\n",
    "        for token, tag in zip(attention_data, tags):\n",
    "            X.append(token.detach().numpy())\n",
    "            Y.append(tag)\n",
    "    \n",
    "    # Initialize the LabelEncoder\n",
    "    label_encoder = LabelEncoder()\n",
    "    \n",
    "    # Fit and transform the data\n",
    "    Y = label_encoder.fit_transform(Y)\n",
    "    X_train, X_test, y_train, y_test = train_test_split(\n",
    "    X, Y, test_size=0.33, random_state=42)\n",
    "\n",
    "    return X_train, X_test, y_train, y_test\n",
    "    \n",
    "\n",
    "def train_model(X_train, X_test, y_train, y_test):\n",
    "    clf = LogisticRegression(random_state=0).fit(X_train, y_train)\n",
    "    score = clf.score(X_test, y_test)\n",
    "    return score"
   ]
  },
  {
   "cell_type": "code",
   "execution_count": null,
   "metadata": {},
   "outputs": [],
   "source": [
    "layer_list =[]\n",
    "create_data()\n",
    "\n",
    "for layer in layers:\n",
    "    head_list = []\n",
    "    for head in heads:\n",
    "        score = train_model(X_train, X_test, y_train, y_test)\n",
    "        head_list.append(score)\n",
    "    layer_list.append(head_list)"
   ]
  },
  {
   "cell_type": "code",
   "execution_count": null,
   "metadata": {},
   "outputs": [],
   "source": []
  }
 ],
 "metadata": {
  "kernelspec": {
   "display_name": "Python 3",
   "language": "python",
   "name": "python3"
  },
  "language_info": {
   "codemirror_mode": {
    "name": "ipython",
    "version": 3
   },
   "file_extension": ".py",
   "mimetype": "text/x-python",
   "name": "python",
   "nbconvert_exporter": "python",
   "pygments_lexer": "ipython3",
   "version": "3.12.3"
  }
 },
 "nbformat": 4,
 "nbformat_minor": 2
}
