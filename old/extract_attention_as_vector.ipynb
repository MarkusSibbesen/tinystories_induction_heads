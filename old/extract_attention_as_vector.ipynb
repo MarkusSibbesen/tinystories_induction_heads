{
 "cells": [
  {
   "cell_type": "code",
   "execution_count": null,
   "metadata": {},
   "outputs": [],
   "source": [
    "import torch\n",
    "from transformers import AutoModelForCausalLM, AutoTokenizer\n",
    "\n",
    "from sklearn.linear_model import LogisticRegression\n",
    "from matplotlib import pyplot as plt\n",
    "from sklearn.metrics import classification_report\n",
    "\n",
    "import numpy as np\n",
    "from pos_tagger import PosTagger\n",
    "from sklearn.model_selection import train_test_split\n",
    "from sklearn.preprocessing import LabelEncoder\n",
    "from sklearn.linear_model import LogisticRegression\n"
   ]
  },
  {
   "cell_type": "code",
   "execution_count": null,
   "metadata": {},
   "outputs": [],
   "source": [
    "model_url = 'roneneldan/TinyStories-3M'\n",
    "\n",
    "model = AutoModelForCausalLM.from_pretrained(model_url)\n",
    "tokenizer = AutoTokenizer.from_pretrained(model_url)"
   ]
  },
  {
   "cell_type": "code",
   "execution_count": null,
   "metadata": {},
   "outputs": [],
   "source": [
    "with open('data/tinystories_val.txt', 'r') as file:\n",
    "    stories = file.read()\n",
    "    stories = stories.split(\"<|endoftext|>\\n\")"
   ]
  },
  {
   "cell_type": "code",
   "execution_count": null,
   "metadata": {},
   "outputs": [],
   "source": [
    "class miav():\n",
    "    def __init__(self, model, tokenizer, dataset):\n",
    "        self.model = model\n",
    "        self.tokenizer = tokenizer\n",
    "        self.dataset = dataset\n",
    "    \n",
    "    \n",
    "    def attach_value_hook(self, model, layer):\n",
    "        values = []\n",
    "        def extract_value_hook(module, input, output):\n",
    "            values.append(output)\n",
    "        value_hookpoint = f'transformer.h.{layer}.attn.attention.v_proj'\n",
    "        value_hook = model.get_submodule(value_hookpoint).register_forward_hook(extract_value_hook)\n",
    "        return value_hook, values\n",
    "\n",
    "\n",
    "    def get_values(self, model, tokenizer, layer, head_index,  inputs:list[str]):\n",
    "        if head_index > 15:\n",
    "            raise ValueError('Head index must be between 0 and 15')\n",
    "        value_hook, values = self.attach_value_hook(model, layer)\n",
    "        for input_ in inputs:\n",
    "            tokenized = tokenizer.encode(input_, return_tensors='pt')\n",
    "            model.forward(tokenized)\n",
    "        value_hook.remove()\n",
    "        return values\n",
    "\n",
    "    \n",
    "def get_value_attention_token_level(attention_values,sentence_index, token_index, head_index):\n",
    "    #This function is just the structure of the data\n",
    "    sentence = attention_values[sentence_index]\n",
    "    batch = sentence[0]\n",
    "    token = batch[token_index]\n",
    "    head = token[head_index:head_index+8]\n",
    "    return head\n",
    "    \n",
    "\n",
    "def get_value_attention_sentence_level(attention_matrix, head_index):\n",
    "    sentence_list = []\n",
    "    for sentence in attention_matrix:\n",
    "        attention_values = []\n",
    "        for batch in sentence:\n",
    "            for token in batch:\n",
    "                attention_values.append(token[head_index:head_index+8])\n",
    "        sentence_list.append(attention_values)\n",
    "    return sentence_list\n",
    "    \n",
    "\n",
    "\n",
    "idk = miav(model, tokenizer, stories)"
   ]
  },
  {
   "cell_type": "code",
   "execution_count": null,
   "metadata": {},
   "outputs": [],
   "source": [
    "def create_data(model, tokenizer, layer, head_index, sentences):\n",
    "    tagger = PosTagger(tokenizer)\n",
    "    X = []\n",
    "    Y = []\n",
    "\n",
    "\n",
    "    for sentence in sentences:\n",
    "\n",
    "        value_matrix = idk.get_values(model, tokenizer, layer, head_index,[sentence])\n",
    "        tokens, tags = tagger.tag_input(sentence)\n",
    "        attention_data = get_value_attention_sentence_level(value_matrix,head_index)[0]\n",
    "        for token, tag in zip(attention_data, tags):\n",
    "            X.append(token.detach().numpy())\n",
    "            Y.append(tag)\n",
    "    \n",
    "    # Initialize the LabelEncoder\n",
    "    label_encoder = LabelEncoder()\n",
    "    \n",
    "    # Fit and transform the data\n",
    "    Y = label_encoder.fit_transform(Y)\n",
    "    X_train, X_test, y_train, y_test = train_test_split(\n",
    "    X, Y, test_size=0.33, random_state=42)\n",
    "\n",
    "    return X_train, X_test, y_train, y_test\n",
    "    \n",
    "\n",
    "def train_model(X_train, X_test, y_train, y_test):\n",
    "    clf = LogisticRegression(random_state=0).fit(X_train, y_train)\n",
    "    score = clf.score(X_test, y_test)\n",
    "    y_pred = clf.predict(X_test)\n",
    "    report = classification_report(y_test, y_pred, zero_division=0)\n",
    "    return score, report"
   ]
  },
  {
   "cell_type": "code",
   "execution_count": null,
   "metadata": {},
   "outputs": [],
   "source": [
    "# layer_list =[]\n",
    "# layers = range(8)\n",
    "# heads = range(16)\n",
    "# for layer in layers:\n",
    "#     head_list = []\n",
    "#     for head in heads:\n",
    "#         X_train, X_test, y_train, y_test = create_data(model, tokenizer, layer, head, stories[0:10])\n",
    "#         score = train_model(X_train, X_test, y_train, y_test)\n",
    "#         head_list.append(score)\n",
    "#     layer_list.append(head_list)"
   ]
  },
  {
   "cell_type": "code",
   "execution_count": null,
   "metadata": {},
   "outputs": [],
   "source": [
    "from attention_extraction import extract_all_attention"
   ]
  },
  {
   "cell_type": "code",
   "execution_count": null,
   "metadata": {},
   "outputs": [],
   "source": [
    "keys, q, v = extract_all_attention(model, tokenizer, stories[0:10])"
   ]
  },
  {
   "cell_type": "code",
   "execution_count": null,
   "metadata": {},
   "outputs": [],
   "source": [
    "v.shape"
   ]
  },
  {
   "cell_type": "code",
   "execution_count": null,
   "metadata": {},
   "outputs": [],
   "source": [
    "def generate_scores(model, tokenizer, stories):\n",
    "    layers=range(8)\n",
    "    heads=range(16)\n",
    "    for layer in layers:\n",
    "        head_list = []\n",
    "        report_list = []\n",
    "        for head in heads:\n",
    "            X_train, X_test, y_train, y_test = create_data(model, tokenizer, layer, head,stories)\n",
    "            #score,report = train_model(X_train, X_test, y_train, y_test)\n",
    "            #report_list.append(report)\n",
    "            #head_list.append(score)\n",
    "        yield head_list, report_list\n",
    "\n",
    "\n",
    "layer_list = []\n",
    "report_list = []\n",
    "for layer_scores, reports in generate_scores(model, tokenizer,  stories[0:10]):\n",
    "    print(layer_scores)\n",
    "    report_list.append(reports)\n",
    "    layer_list.append(layer_scores)\n",
    "\n",
    "#Each row is a layer, each column is a head\n",
    "#In the print below"
   ]
  },
  {
   "cell_type": "code",
   "execution_count": null,
   "metadata": {},
   "outputs": [],
   "source": [
    "200*128"
   ]
  },
  {
   "cell_type": "code",
   "execution_count": null,
   "metadata": {},
   "outputs": [],
   "source": []
  }
 ],
 "metadata": {
  "kernelspec": {
   "display_name": "Python 3",
   "language": "python",
   "name": "python3"
  },
  "language_info": {
   "codemirror_mode": {
    "name": "ipython",
    "version": 3
   },
   "file_extension": ".py",
   "mimetype": "text/x-python",
   "name": "python",
   "nbconvert_exporter": "python",
   "pygments_lexer": "ipython3",
   "version": "3.12.3"
  }
 },
 "nbformat": 4,
 "nbformat_minor": 2
}
